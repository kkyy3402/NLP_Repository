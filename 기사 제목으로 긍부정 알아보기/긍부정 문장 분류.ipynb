{
 "cells": [
  {
   "cell_type": "markdown",
   "metadata": {},
   "source": [
    "출처: https://somjang.tistory.com/entry/Keras기사-제목을-가지고-긍정-부정-중립-분류하는-모델-만들어보기 [솜씨좋은장씨]"
   ]
  },
  {
   "cell_type": "markdown",
   "metadata": {},
   "source": [
    "### 데이터 로드하기"
   ]
  },
  {
   "cell_type": "code",
   "execution_count": 2,
   "metadata": {},
   "outputs": [],
   "source": [
    "import pandas as pd \n",
    "\n",
    "train_data = pd.read_csv(\"./train_dataset_1007.csv\") \n",
    "test_data = pd.read_csv(\"./test_dataset_1007.csv\")"
   ]
  },
  {
   "cell_type": "markdown",
   "metadata": {},
   "source": [
    "### train 데이터 확인하기"
   ]
  },
  {
   "cell_type": "code",
   "execution_count": 3,
   "metadata": {},
   "outputs": [
    {
     "data": {
      "text/plain": [
       "<AxesSubplot:>"
      ]
     },
     "execution_count": 3,
     "metadata": {},
     "output_type": "execute_result"
    },
    {
     "data": {
      "image/png": "[encoded data removed]",
      "text/plain": [
       "<Figure size 432x288 with 1 Axes>"
      ]
     },
     "metadata": {
      "needs_background": "light"
     },
     "output_type": "display_data"
    }
   ],
   "source": [
    "%matplotlib inline \n",
    "import matplotlib.pyplot as plt\n",
    "\n",
    "train_data['label'].value_counts().plot(kind='bar')"
   ]
  },
  {
   "cell_type": "code",
   "execution_count": 4,
   "metadata": {},
   "outputs": [
    {
     "data": {
      "text/plain": [
       "<AxesSubplot:>"
      ]
     },
     "execution_count": 4,
     "metadata": {},
     "output_type": "execute_result"
    },
    {
     "data": {
      "image/png": "[encoded data removed]",
      "text/plain": [
       "<Figure size 432x288 with 1 Axes>"
      ]
     },
     "metadata": {
      "needs_background": "light"
     },
     "output_type": "display_data"
    }
   ],
   "source": [
    "test_data['label'].value_counts().plot(kind='bar')"
   ]
  },
  {
   "cell_type": "code",
   "execution_count": 5,
   "metadata": {},
   "outputs": [
    {
     "name": "stdout",
     "output_type": "stream",
     "text": [
      "   label  count\n",
      "0     -1    791\n",
      "1      0   3971\n",
      "2      1   1238\n",
      "   label  count\n",
      "0     -1     40\n",
      "1      0    900\n",
      "2      1    560\n"
     ]
    }
   ],
   "source": [
    "print(train_data.groupby('label').size().reset_index(name='count')) \n",
    "print(test_data.groupby('label').size().reset_index(name='count'))"
   ]
  },
  {
   "cell_type": "code",
   "execution_count": 6,
   "metadata": {},
   "outputs": [
    {
     "name": "stdout",
     "output_type": "stream",
     "text": [
      "Collecting konlpy\n",
      "  Downloading konlpy-0.5.2-py2.py3-none-any.whl (19.4 MB)\n",
      "Collecting lxml>=4.1.0\n",
      "  Downloading lxml-4.6.1-cp37-cp37m-win_amd64.whl (3.5 MB)\n",
      "Collecting beautifulsoup4==4.6.0\n",
      "  Downloading beautifulsoup4-4.6.0-py3-none-any.whl (86 kB)\n",
      "Requirement already satisfied: numpy>=1.6 in c:\\users\\gangyeolkim\\appdata\\local\\programs\\python\\python37\\lib\\site-packages (from konlpy) (1.18.5)\n",
      "Requirement already satisfied: colorama in c:\\users\\gangyeolkim\\appdata\\local\\programs\\python\\python37\\lib\\site-packages (from konlpy) (0.4.3)\n",
      "Collecting tweepy>=3.7.0\n",
      "  Downloading tweepy-3.9.0-py2.py3-none-any.whl (30 kB)\n",
      "Collecting JPype1>=0.7.0\n",
      "  Downloading JPype1-1.1.2-cp37-cp37m-win_amd64.whl (1.6 MB)\n",
      "Requirement already satisfied: six>=1.10.0 in c:\\users\\gangyeolkim\\appdata\\local\\programs\\python\\python37\\lib\\site-packages (from tweepy>=3.7.0->konlpy) (1.15.0)\n",
      "Requirement already satisfied: requests-oauthlib>=0.7.0 in c:\\users\\gangyeolkim\\appdata\\local\\programs\\python\\python37\\lib\\site-packages (from tweepy>=3.7.0->konlpy) (1.3.0)\n",
      "Requirement already satisfied: requests[socks]>=2.11.1 in c:\\users\\gangyeolkim\\appdata\\local\\programs\\python\\python37\\lib\\site-packages (from tweepy>=3.7.0->konlpy) (2.24.0)\n",
      "Collecting typing-extensions; python_version < \"3.8\"\n",
      "  Downloading typing_extensions-3.7.4.3-py3-none-any.whl (22 kB)\n",
      "Requirement already satisfied: oauthlib>=3.0.0 in c:\\users\\gangyeolkim\\appdata\\local\\programs\\python\\python37\\lib\\site-packages (from requests-oauthlib>=0.7.0->tweepy>=3.7.0->konlpy) (3.1.0)\n",
      "Requirement already satisfied: idna<3,>=2.5 in c:\\users\\gangyeolkim\\appdata\\local\\programs\\python\\python37\\lib\\site-packages (from requests[socks]>=2.11.1->tweepy>=3.7.0->konlpy) (2.10)\n",
      "Requirement already satisfied: certifi>=2017.4.17 in c:\\users\\gangyeolkim\\appdata\\local\\programs\\python\\python37\\lib\\site-packages (from requests[socks]>=2.11.1->tweepy>=3.7.0->konlpy) (2020.6.20)\n",
      "Requirement already satisfied: urllib3!=1.25.0,!=1.25.1,<1.26,>=1.21.1 in c:\\users\\gangyeolkim\\appdata\\local\\programs\\python\\python37\\lib\\site-packages (from requests[socks]>=2.11.1->tweepy>=3.7.0->konlpy) (1.25.10)\n",
      "Requirement already satisfied: chardet<4,>=3.0.2 in c:\\users\\gangyeolkim\\appdata\\local\\programs\\python\\python37\\lib\\site-packages (from requests[socks]>=2.11.1->tweepy>=3.7.0->konlpy) (3.0.4)\n",
      "Collecting PySocks!=1.5.7,>=1.5.6; extra == \"socks\"\n",
      "  Downloading PySocks-1.7.1-py3-none-any.whl (16 kB)\n",
      "Installing collected packages: lxml, beautifulsoup4, tweepy, typing-extensions, JPype1, konlpy, PySocks\n",
      "  Attempting uninstall: beautifulsoup4\n",
      "    Found existing installation: beautifulsoup4 4.9.3\n",
      "    Uninstalling beautifulsoup4-4.9.3:\n"
     ]
    },
    {
     "name": "stderr",
     "output_type": "stream",
     "text": [
      "WARNING: You are using pip version 20.1.1; however, version 20.2.4 is available.\n",
      "You should consider upgrading via the 'c:\\users\\gangyeolkim\\appdata\\local\\programs\\python\\python37\\python.exe -m pip install --upgrade pip' command.\n"
     ]
    },
    {
     "name": "stdout",
     "output_type": "stream",
     "text": [
      "      Successfully uninstalled beautifulsoup4-4.9.3\n",
      "Successfully installed JPype1-1.1.2 PySocks-1.7.1 beautifulsoup4-4.6.0 konlpy-0.5.2 lxml-4.6.1 tweepy-3.9.0 typing-extensions-3.7.4.3\n"
     ]
    }
   ],
   "source": [
    "!pip3 install konlpy"
   ]
  },
  {
   "cell_type": "code",
   "execution_count": 7,
   "metadata": {},
   "outputs": [],
   "source": [
    "stopwords = ['의', '가', '이', '은', '들', '는', '좀', '잘', '걍', '과', '도', '를', '으로', '자', '에', '와', '한', '하다']"
   ]
  },
  {
   "cell_type": "code",
   "execution_count": 10,
   "metadata": {},
   "outputs": [],
   "source": [
    "import konlpy \n",
    "from konlpy.tag import Okt \n",
    "okt = Okt() \n",
    "X_train = []\n",
    "\n",
    "for sentence in train_data['title']: \n",
    "    temp_X = [] \n",
    "    temp_X = okt.morphs(sentence, stem=True) # 토큰화 \n",
    "    temp_X = [word for word in temp_X if not word in stopwords]# 불용어 제거 \n",
    "    X_train.append(temp_X)\n",
    "    \n",
    "X_test = [] \n",
    "for sentence in test_data['title']: \n",
    "    temp_X = [] \n",
    "    temp_X = okt.morphs(sentence, stem=True) # 토큰화 \n",
    "    temp_X = [word for word in temp_X if not word in stopwords]# 불용어 제거 \n",
    "    X_test.append(temp_X)"
   ]
  },
  {
   "cell_type": "code",
   "execution_count": 11,
   "metadata": {},
   "outputs": [
    {
     "name": "stdout",
     "output_type": "stream",
     "text": [
      "[['버거킹', '바삭', '신', '메뉴', '3000원', '안되다', '가격'], ['버거킹', '가을', '맞이', '와퍼주니어', '1900원', '판매'], ['귀엽다', '오싹하다', '’', '할로윈데이', '겨냥', '이색', '식', '음료', '출시']]\n"
     ]
    }
   ],
   "source": [
    "print(X_train[:3])"
   ]
  },
  {
   "cell_type": "markdown",
   "metadata": {},
   "source": [
    "### 정수인코딩"
   ]
  },
  {
   "cell_type": "code",
   "execution_count": 13,
   "metadata": {},
   "outputs": [],
   "source": [
    "from tensorflow.keras.preprocessing.text import Tokenizer \n",
    "max_words = 35000 \n",
    "tokenizer = Tokenizer(num_words = max_words) \n",
    "tokenizer.fit_on_texts(X_train) \n",
    "X_train = tokenizer.texts_to_sequences(X_train) \n",
    "X_test = tokenizer.texts_to_sequences(X_test)"
   ]
  },
  {
   "cell_type": "code",
   "execution_count": 14,
   "metadata": {},
   "outputs": [
    {
     "data": {
      "text/plain": [
       "[[1, 172, 68, 15, 1755, 1756, 30],\n",
       " [1, 541, 178, 66, 215, 22],\n",
       " [2433, 4299, 2, 982, 1073, 317, 216, 270, 12]]"
      ]
     },
     "execution_count": 14,
     "metadata": {},
     "output_type": "execute_result"
    }
   ],
   "source": [
    "X_train[:3]"
   ]
  },
  {
   "cell_type": "markdown",
   "metadata": {},
   "source": [
    "### 길이에 대한 데이터 출력(Train 데이터)"
   ]
  },
  {
   "cell_type": "code",
   "execution_count": 16,
   "metadata": {},
   "outputs": [
    {
     "name": "stdout",
     "output_type": "stream",
     "text": [
      "제목의 최대 길이 :  20\n",
      "제목의 평균 길이 :  10.525333333333334\n"
     ]
    },
    {
     "data": {
      "image/png": "[encoded data removed]",
      "text/plain": [
       "<Figure size 432x288 with 1 Axes>"
      ]
     },
     "metadata": {
      "needs_background": "light"
     },
     "output_type": "display_data"
    }
   ],
   "source": [
    "print(\"제목의 최대 길이 : \", max(len(l) for l in X_train)) \n",
    "print(\"제목의 평균 길이 : \", sum(map(len, X_train))/ len(X_train)) \n",
    "plt.hist([len(s) for s in X_train], bins=50) \n",
    "plt.xlabel('length of Data') \n",
    "plt.ylabel('number of Data') \n",
    "plt.show()"
   ]
  },
  {
   "cell_type": "markdown",
   "metadata": {},
   "source": [
    "### 길이에 대한 데이터 출력(Test 데이터)"
   ]
  },
  {
   "cell_type": "code",
   "execution_count": 17,
   "metadata": {},
   "outputs": [
    {
     "name": "stdout",
     "output_type": "stream",
     "text": [
      "제목의 최대 길이 :  17\n",
      "제목의 평균 길이 :  8.979333333333333\n"
     ]
    },
    {
     "data": {
      "image/png": "[encoded data removed]",
      "text/plain": [
       "<Figure size 432x288 with 1 Axes>"
      ]
     },
     "metadata": {
      "needs_background": "light"
     },
     "output_type": "display_data"
    }
   ],
   "source": [
    "print(\"제목의 최대 길이 : \", max(len(l) for l in X_test)) \n",
    "print(\"제목의 평균 길이 : \", sum(map(len, X_test))/ len(X_test)) \n",
    "plt.hist([len(s) for s in X_test], bins=50) \n",
    "plt.xlabel('length of Data') \n",
    "plt.ylabel('number of Data') \n",
    "plt.show()"
   ]
  },
  {
   "cell_type": "markdown",
   "metadata": {},
   "source": [
    "### One-Hot Encoding 실시"
   ]
  },
  {
   "cell_type": "code",
   "execution_count": 18,
   "metadata": {},
   "outputs": [],
   "source": [
    "import numpy as np \n",
    "\n",
    "y_train = [] \n",
    "y_test = [] \n",
    "\n",
    "for i in range(len(train_data['label'])): \n",
    "    if train_data['label'].iloc[i] == 1: \n",
    "        y_train.append([0, 0, 1]) \n",
    "    elif train_data['label'].iloc[i] == 0: \n",
    "        y_train.append([0, 1, 0]) \n",
    "    elif train_data['label'].iloc[i] == -1: \n",
    "        y_train.append([1, 0, 0]) \n",
    "        \n",
    "for i in range(len(test_data['label'])): \n",
    "    if test_data['label'].iloc[i] == 1: \n",
    "        y_test.append([0, 0, 1]) \n",
    "    elif test_data['label'].iloc[i] == 0: \n",
    "        y_test.append([0, 1, 0]) \n",
    "    elif test_data['label'].iloc[i] == -1: \n",
    "        y_test.append([1, 0, 0]) \n",
    "        \n",
    "y_train = np.array(y_train) \n",
    "y_test = np.array(y_test)"
   ]
  },
  {
   "cell_type": "code",
   "execution_count": 20,
   "metadata": {},
   "outputs": [],
   "source": [
    "from tensorflow.keras.layers import Embedding, Dense, LSTM \n",
    "from tensorflow.keras.models import Sequential \n",
    "from tensorflow.keras.preprocessing.sequence import pad_sequences\n",
    "\n",
    "max_len = 20 # 전체 데이터의 길이를 20로 맞춘다 \n",
    "\n",
    "X_train = pad_sequences(X_train, maxlen=max_len) \n",
    "X_test = pad_sequences(X_test, maxlen=max_len)"
   ]
  },
  {
   "cell_type": "markdown",
   "metadata": {},
   "source": [
    "### 모델 구성하기"
   ]
  },
  {
   "cell_type": "code",
   "execution_count": 21,
   "metadata": {},
   "outputs": [],
   "source": [
    "model = Sequential() \n",
    "model.add(Embedding(max_words, 100))\n",
    "model.add(LSTM(128)) \n",
    "model.add(Dense(3, activation='softmax')) "
   ]
  },
  {
   "cell_type": "markdown",
   "metadata": {},
   "source": [
    "### 학습 시작하기"
   ]
  },
  {
   "cell_type": "code",
   "execution_count": 22,
   "metadata": {},
   "outputs": [
    {
     "name": "stdout",
     "output_type": "stream",
     "text": [
      "Epoch 1/10\n",
      "540/540 [==============================] - 21s 40ms/step - loss: 0.4328 - accuracy: 0.8433 - val_loss: 0.2982 - val_accuracy: 0.9350\n",
      "Epoch 2/10\n",
      "540/540 [==============================] - 21s 38ms/step - loss: 0.1267 - accuracy: 0.9617 - val_loss: 0.1874 - val_accuracy: 0.9600\n",
      "Epoch 3/10\n",
      "540/540 [==============================] - 20s 38ms/step - loss: 0.0738 - accuracy: 0.9813 - val_loss: 0.3862 - val_accuracy: 0.8867\n",
      "Epoch 4/10\n",
      "540/540 [==============================] - 20s 38ms/step - loss: 0.0475 - accuracy: 0.9878 - val_loss: 0.2195 - val_accuracy: 0.9467\n",
      "Epoch 5/10\n",
      "540/540 [==============================] - 21s 38ms/step - loss: 0.0369 - accuracy: 0.9902 - val_loss: 0.2288 - val_accuracy: 0.9500\n",
      "Epoch 6/10\n",
      "540/540 [==============================] - 19s 35ms/step - loss: 0.0331 - accuracy: 0.9924 - val_loss: 0.2204 - val_accuracy: 0.9633\n",
      "Epoch 7/10\n",
      "540/540 [==============================] - 20s 36ms/step - loss: 0.0189 - accuracy: 0.9948 - val_loss: 0.3032 - val_accuracy: 0.9350\n",
      "Epoch 8/10\n",
      "540/540 [==============================] - 21s 38ms/step - loss: 0.0143 - accuracy: 0.9954 - val_loss: 0.3878 - val_accuracy: 0.9133\n",
      "Epoch 9/10\n",
      "540/540 [==============================] - 21s 38ms/step - loss: 0.0120 - accuracy: 0.9970 - val_loss: 0.4746 - val_accuracy: 0.8983\n",
      "Epoch 10/10\n",
      "540/540 [==============================] - 20s 38ms/step - loss: 0.0073 - accuracy: 0.9983 - val_loss: 0.5054 - val_accuracy: 0.9117\n"
     ]
    }
   ],
   "source": [
    "model.compile(optimizer='rmsprop', loss='categorical_crossentropy', metrics=['accuracy']) \n",
    "history = model.fit(X_train, y_train, epochs=10, batch_size=10, validation_split=0.1)"
   ]
  },
  {
   "cell_type": "code",
   "execution_count": 23,
   "metadata": {},
   "outputs": [],
   "source": [
    "predict = model.predict(X_test)"
   ]
  },
  {
   "cell_type": "code",
   "execution_count": 24,
   "metadata": {},
   "outputs": [],
   "source": [
    "import numpy as np \n",
    "\n",
    "predict_labels = np.argmax(predict, axis=1) \n",
    "original_labels = np.argmax(y_test, axis=1)"
   ]
  },
  {
   "cell_type": "code",
   "execution_count": 27,
   "metadata": {
    "scrolled": true
   },
   "outputs": [
    {
     "name": "stdout",
     "output_type": "stream",
     "text": [
      "기사제목 :  더벨맘스터치 가맹점포 롯데리아 앞질러1위 우뚝 /\t 정답지 :  부정 문장 /\t예측한 결과 :  부정 문장\n",
      "기사제목 :  롯데리아도 맘스터치도 패스트푸드점 위생적발 5년간 50 증가 /\t 정답지 :  부정 문장 /\t예측한 결과 :  중립 문장\n",
      "기사제목 :  맘스터치 도시락 한 달만에 3만개 완판잘 나가는 치킨 프랜차이즈 간편식 /\t 정답지 :  긍정 문장 /\t예측한 결과 :  긍정 문장\n",
      "기사제목 :  맘스터치 먹고 뉴이스트 · 옹성우 · 여자친구 보러가자 /\t 정답지 :  긍정 문장 /\t예측한 결과 :  긍정 문장\n",
      "기사제목 :  MTM터치 연중기획공연12세계의 음악도시 오스틴 내슈빌 아바나 /\t 정답지 :  긍정 문장 /\t예측한 결과 :  긍정 문장\n",
      "기사제목 :  기로에 선 자영업자 그래도 해법은 있다 /\t 정답지 :  긍정 문장 /\t예측한 결과 :  긍정 문장\n",
      "기사제목 :  단독 지금도 맥도날드서 벌레·이물질 줄줄줄반년새 21건 포스팅 충격 /\t 정답지 :  중립 문장 /\t예측한 결과 :  중립 문장\n",
      "기사제목 :  엄지족 잡아라패스트푸드도 배달 경쟁 가세 /\t 정답지 :  긍정 문장 /\t예측한 결과 :  긍정 문장\n",
      "기사제목 :  더벨강소 외식프랜차이즈 리포트해마로푸드 가격·품질 두마리 토끼 잡 /\t 정답지 :  긍정 문장 /\t예측한 결과 :  긍정 문장\n",
      "기사제목 :  맘스터치 펩시 콘서트 입장권 증정 이벤트 /\t 정답지 :  긍정 문장 /\t예측한 결과 :  긍정 문장\n",
      "기사제목 :  국내서 1위 쫓는 해마로푸드서비스 맘스터치’해외 사업은 지지부진 /\t 정답지 :  부정 문장 /\t예측한 결과 :  부정 문장\n",
      "기사제목 :  붐바타 창업박람회 참가제2의 맘스터치 시동건다 /\t 정답지 :  긍정 문장 /\t예측한 결과 :  긍정 문장\n",
      "기사제목 :  해마로푸드 붐바타로 제2의 맘스터치 시동건다 /\t 정답지 :  긍정 문장 /\t예측한 결과 :  긍정 문장\n",
      "기사제목 :  맘스터치 군대스리가 예비군편’ 추가 진행 /\t 정답지 :  긍정 문장 /\t예측한 결과 :  긍정 문장\n",
      "기사제목 :  맘스터치 뉴미디어 통해 기부나눔 알리다 /\t 정답지 :  부정 문장 /\t예측한 결과 :  부정 문장\n",
      "기사제목 :  맘스터치 필리핀 진출동남아 공략 가속화 /\t 정답지 :  부정 문장 /\t예측한 결과 :  부정 문장\n",
      "기사제목 :  맘스터치 대장균 초과 검출 이어 또 덜 익은 패티‧맨손조리‧냅킨 벌레 논란 /\t 정답지 :  중립 문장 /\t예측한 결과 :  중립 문장\n",
      "기사제목 :  맘스터치 위생 엉망 논란냅킨 벌레·덜 익은 고기로 조리 /\t 정답지 :  중립 문장 /\t예측한 결과 :  중립 문장\n",
      "기사제목 :  축구·농구·제기차기맘스터치 뉴미디어 통한 기부나눔 전파 /\t 정답지 :  부정 문장 /\t예측한 결과 :  부정 문장\n",
      "기사제목 :  가성비 햄버거로 맘스터치 강하게 위협하는 노브랜드 버거 메뉴 5가지 /\t 정답지 :  긍정 문장 /\t예측한 결과 :  긍정 문장\n",
      "기사제목 :  맛있는 꿀조합 푸드 페어링 인기 /\t 정답지 :  부정 문장 /\t예측한 결과 :  부정 문장\n",
      "기사제목 :  ONE SHOT 햄버거 간식으로 한 끼 식사로당신의 최애’ 브랜드는 /\t 정답지 :  긍정 문장 /\t예측한 결과 :  긍정 문장\n",
      "기사제목 :  맘스터치 주문예약 전용앱 선보여 /\t 정답지 :  부정 문장 /\t예측한 결과 :  부정 문장\n",
      "기사제목 :  맘스터치 대세 배우로 거듭난 음문석과 유쾌하고 독특한 유머 넘치는 광고 선 /\t 정답지 :  부정 문장 /\t예측한 결과 :  부정 문장\n",
      "기사제목 :  맘스터치 공식 모바일 앱 출시풍성한 이벤트 마련 /\t 정답지 :  부정 문장 /\t예측한 결과 :  부정 문장\n",
      "기사제목 :  맘스터치몰 데일리 맘스터치 도시락 6종 출시 /\t 정답지 :  부정 문장 /\t예측한 결과 :  부정 문장\n",
      "기사제목 :  맘스터치 이제 앱 통해서 만난다 /\t 정답지 :  긍정 문장 /\t예측한 결과 :  긍정 문장\n",
      "기사제목 :  유통오늘 맘스터치 멕시코풍 살사리코버거 출시 /\t 정답지 :  부정 문장 /\t예측한 결과 :  부정 문장\n",
      "기사제목 :  맘스터치 이번엔 매콤·달콤·새콤 살사소스다 /\t 정답지 :  긍정 문장 /\t예측한 결과 :  긍정 문장\n",
      "기사제목 :  맘스터치 멕시코풍 살사리코버거’  이번엔 매콤 달콤 새콤 살사소스다 /\t 정답지 :  긍정 문장 /\t예측한 결과 :  긍정 문장\n",
      "기사제목 :  해마로푸드서비스 맘스터치로 해외 진출 확대메리츠 /\t 정답지 :  부정 문장 /\t예측한 결과 :  부정 문장\n",
      "기사제목 :  뜨는 별 vs 지는 별햄버거 업계 춘추전국시대 /\t 정답지 :  긍정 문장 /\t예측한 결과 :  긍정 문장\n",
      "기사제목 :  어제19일 출시하자마자 덕후들 인생버거 등극한 맘스터치 살사리코 버거 /\t 정답지 :  부정 문장 /\t예측한 결과 :  긍정 문장\n",
      "기사제목 :  신상이요 한국야쿠르트 대상 청정원 맘스터치몰 /\t 정답지 :  부정 문장 /\t예측한 결과 :  부정 문장\n",
      "기사제목 :  2019 제1회 영종국제도시 청소년가요제 가을결선 10월 12일 개최 /\t 정답지 :  긍정 문장 /\t예측한 결과 :  긍정 문장\n",
      "기사제목 :  치킨 전문점 브랜드 평판 1위는 맘스터치 /\t 정답지 :  부정 문장 /\t예측한 결과 :  부정 문장\n",
      "기사제목 :  유통오늘 신동빈 롯데 회장 오산캠퍼스 공사현장 방문 /\t 정답지 :  긍정 문장 /\t예측한 결과 :  긍정 문장\n",
      "기사제목 :  기업 소셜임팩트 가성비 甲 맘스터치 롯데리아와 공동 1위 /\t 정답지 :  부정 문장 /\t예측한 결과 :  부정 문장\n",
      "기사제목 :  롯데리아 옛 메뉴 소환후발주자 추격 막을까 /\t 정답지 :  긍정 문장 /\t예측한 결과 :  긍정 문장\n",
      "기사제목 :  맘스터치몰의 간편하고 맛있는 한 끼 3탄은 /\t 정답지 :  긍정 문장 /\t예측한 결과 :  긍정 문장\n",
      "기사제목 :  맘스터치 알바천국과 고3 수험생 대상 이벤트 /\t 정답지 :  긍정 문장 /\t예측한 결과 :  긍정 문장\n",
      "기사제목 :  맘스터치 동남아 최대 외식시장 필리핀 진출 /\t 정답지 :  부정 문장 /\t예측한 결과 :  부정 문장\n",
      "기사제목 :  치킨햄치즈 조합으로 싸이버거보다 맛있다고 난리난 맘스터치 신상 살사 /\t 정답지 :  부정 문장 /\t예측한 결과 :  부정 문장\n",
      "기사제목 :  맘스터치 스포츠사회공헌활동 군대스리가’ 시작 /\t 정답지 :  긍정 문장 /\t예측한 결과 :  긍정 문장\n",
      "기사제목 :  맘스터치 펩시 쇼케이스 SNS 인증샷 이벤트 진행 /\t 정답지 :  긍정 문장 /\t예측한 결과 :  긍정 문장\n",
      "기사제목 :  토종기업 해마로푸드 2020년 맘스터치 매장 1300개1위 롯데리아 위협 /\t 정답지 :  부정 문장 /\t예측한 결과 :  긍정 문장\n",
      "기사제목 :  군대스리가FC 강력 스파이크 장착 조 투소 맹활약눈앞서 놓친 족구 첫승 /\t 정답지 :  긍정 문장 /\t예측한 결과 :  긍정 문장\n",
      "기사제목 :  맘스터치 수유역점 지역사회 나눔 활동 동참 /\t 정답지 :  긍정 문장 /\t예측한 결과 :  긍정 문장\n",
      "기사제목 :  배달전쟁 제2차 과열 배달비 축소·시스템 구축 관건 /\t 정답지 :  긍정 문장 /\t예측한 결과 :  긍정 문장\n",
      "기사제목 :  날강두부터 오노까지군대스리가 특전사편 세리머니의 향연 /\t 정답지 :  긍정 문장 /\t예측한 결과 :  긍정 문장\n"
     ]
    }
   ],
   "source": [
    "def labelIdxToReult(label : int) -> str:\n",
    "    if label == 0:\n",
    "        return \"중립 문장\"\n",
    "    elif label == 1:\n",
    "        return \"긍정 문장\"\n",
    "    elif label == 2:\n",
    "        return \"부정 문장\"\n",
    "\n",
    "for i in range(50): \n",
    "    print(\"기사제목 : \", test_data['title'].iloc[i], \"/\\t 정답지 : \", labelIdxToReult(original_labels[i]), \"/\\t예측한 결과 : \", labelIdxToReult(predict_labels[i]))"
   ]
  }
 ],
 "metadata": {
  "kernelspec": {
   "display_name": "Python 3",
   "language": "python",
   "name": "python3"
  },
  "language_info": {
   "codemirror_mode": {
    "name": "ipython",
    "version": 3
   },
   "file_extension": ".py",
   "mimetype": "text/x-python",
   "name": "python",
   "nbconvert_exporter": "python",
   "pygments_lexer": "ipython3",
   "version": "3.7.9"
  }
 },
 "nbformat": 4,
 "nbformat_minor": 4
}
