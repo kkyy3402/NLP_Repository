{
 "cells": [
  {
   "cell_type": "markdown",
   "metadata": {},
   "source": [
    "## Eigen Value, Eigen Vector\n",
    "고유값 및 고유벡터를 넘파이로 구현해본다. "
   ]
  },
  {
   "cell_type": "code",
   "execution_count": 1,
   "metadata": {},
   "outputs": [],
   "source": [
    "import numpy as np"
   ]
  },
  {
   "cell_type": "markdown",
   "metadata": {},
   "source": [
    "### 기본 행렬 생성하기"
   ]
  },
  {
   "cell_type": "code",
   "execution_count": 2,
   "metadata": {},
   "outputs": [],
   "source": [
    "arr = np.array([[1,3],[2,5]])"
   ]
  },
  {
   "cell_type": "code",
   "execution_count": 3,
   "metadata": {},
   "outputs": [
    {
     "data": {
      "text/plain": [
       "array([[1, 3],\n",
       "       [2, 5]])"
      ]
     },
     "execution_count": 3,
     "metadata": {},
     "output_type": "execute_result"
    }
   ],
   "source": [
    "arr"
   ]
  },
  {
   "cell_type": "markdown",
   "metadata": {},
   "source": [
    "### 행렬 사칙연산\n",
    "기본적으로 브로드캐스팅되어 연산된다 "
   ]
  },
  {
   "cell_type": "code",
   "execution_count": 6,
   "metadata": {},
   "outputs": [
    {
     "data": {
      "text/plain": [
       "array([[ 2,  6],\n",
       "       [ 4, 10]])"
      ]
     },
     "execution_count": 6,
     "metadata": {},
     "output_type": "execute_result"
    }
   ],
   "source": [
    "arr + arr "
   ]
  },
  {
   "cell_type": "code",
   "execution_count": 7,
   "metadata": {},
   "outputs": [
    {
     "data": {
      "text/plain": [
       "array([[0, 0],\n",
       "       [0, 0]])"
      ]
     },
     "execution_count": 7,
     "metadata": {},
     "output_type": "execute_result"
    }
   ],
   "source": [
    "arr - arr "
   ]
  },
  {
   "cell_type": "markdown",
   "metadata": {},
   "source": [
    "*아래 두 예제를 보면, 내적(dot)과 브로드캐스팅 된 곱\n",
    "의 차이를 알 수 있다.*"
   ]
  },
  {
   "cell_type": "code",
   "execution_count": 8,
   "metadata": {},
   "outputs": [
    {
     "data": {
      "text/plain": [
       "array([[ 1,  9],\n",
       "       [ 4, 25]])"
      ]
     },
     "execution_count": 8,
     "metadata": {},
     "output_type": "execute_result"
    }
   ],
   "source": [
    "arr * arr"
   ]
  },
  {
   "cell_type": "code",
   "execution_count": 10,
   "metadata": {},
   "outputs": [
    {
     "data": {
      "text/plain": [
       "array([[ 7, 18],\n",
       "       [12, 31]])"
      ]
     },
     "execution_count": 10,
     "metadata": {},
     "output_type": "execute_result"
    }
   ],
   "source": [
    "np.dot(arr , arr)"
   ]
  },
  {
   "cell_type": "markdown",
   "metadata": {},
   "source": [
    "### 랜덤한 행렬 만들기\n",
    "아래와 같은 방법으로 0과 9 사이의 10개의 값을 만들 수 있다. "
   ]
  },
  {
   "cell_type": "code",
   "execution_count": 17,
   "metadata": {},
   "outputs": [],
   "source": [
    "random_arr = np.random.randint(0, 10, size=10)"
   ]
  },
  {
   "cell_type": "code",
   "execution_count": 18,
   "metadata": {},
   "outputs": [
    {
     "data": {
      "text/plain": [
       "array([6, 6, 1, 1, 4, 0, 3, 3, 9, 5])"
      ]
     },
     "execution_count": 18,
     "metadata": {},
     "output_type": "execute_result"
    }
   ],
   "source": [
    "random_arr"
   ]
  },
  {
   "cell_type": "markdown",
   "metadata": {},
   "source": [
    "### 수열로 이루어진 행렬 만들기\n",
    "0 ~ 15까지의 수로 이루어진 행렬을 만든 후 , 2 x 8 형태로 변경시킨다."
   ]
  },
  {
   "cell_type": "code",
   "execution_count": 23,
   "metadata": {},
   "outputs": [
    {
     "data": {
      "text/plain": [
       "array([[ 0,  1,  2,  3,  4,  5,  6,  7],\n",
       "       [ 8,  9, 10, 11, 12, 13, 14, 15]])"
      ]
     },
     "execution_count": 23,
     "metadata": {},
     "output_type": "execute_result"
    }
   ],
   "source": [
    "np.arange(16).reshape(2,8)"
   ]
  },
  {
   "cell_type": "code",
   "execution_count": 25,
   "metadata": {},
   "outputs": [
    {
     "data": {
      "text/plain": [
       "array([[ 0,  2,  4,  6],\n",
       "       [ 8, 10, 12, 14]])"
      ]
     },
     "execution_count": 25,
     "metadata": {},
     "output_type": "execute_result"
    }
   ],
   "source": [
    "np.arange(0,16,2).reshape(2,4)"
   ]
  },
  {
   "cell_type": "markdown",
   "metadata": {},
   "source": [
    "### 조건 걸기"
   ]
  },
  {
   "cell_type": "code",
   "execution_count": 30,
   "metadata": {},
   "outputs": [
    {
     "data": {
      "text/plain": [
       "array(['짝수', '홀수', '짝수', '홀수', '짝수', '홀수', '짝수', '홀수', '짝수', '홀수', '짝수',\n",
       "       '홀수', '짝수', '홀수', '짝수', '홀수'], dtype='<U2')"
      ]
     },
     "execution_count": 30,
     "metadata": {},
     "output_type": "execute_result"
    }
   ],
   "source": [
    "example_array = np.arange(16)\n",
    "np.where(example_array % 2, \"홀수\", \"짝수\")"
   ]
  },
  {
   "cell_type": "markdown",
   "metadata": {},
   "source": [
    "### vstack, hstack\n",
    "두가지 행렬을 합치는 메소드로서, vstack의 경우 열의 갯수가, hstack의 경우 행의 갯수가 같아야 하겠다."
   ]
  },
  {
   "cell_type": "code",
   "execution_count": 52,
   "metadata": {},
   "outputs": [
    {
     "data": {
      "text/plain": [
       "array([[ 0,  1],\n",
       "       [ 2,  3],\n",
       "       [ 4,  5],\n",
       "       [ 6,  7],\n",
       "       [ 8,  9],\n",
       "       [ 0,  1],\n",
       "       [ 2,  3],\n",
       "       [ 4,  5],\n",
       "       [ 6,  7],\n",
       "       [ 8,  9],\n",
       "       [10, 11],\n",
       "       [12, 13]])"
      ]
     },
     "execution_count": 52,
     "metadata": {},
     "output_type": "execute_result"
    }
   ],
   "source": [
    "a = np.arange(10).reshape(5,2)\n",
    "b = np.arange(14).reshape(7,2)\n",
    "\n",
    "np.vstack((a,b))"
   ]
  },
  {
   "cell_type": "markdown",
   "metadata": {},
   "source": [
    "### 행렬의 쉐입 보기"
   ]
  },
  {
   "cell_type": "code",
   "execution_count": 53,
   "metadata": {},
   "outputs": [
    {
     "data": {
      "text/plain": [
       "(5, 2)"
      ]
     },
     "execution_count": 53,
     "metadata": {},
     "output_type": "execute_result"
    }
   ],
   "source": [
    "a.shape"
   ]
  },
  {
   "cell_type": "markdown",
   "metadata": {},
   "source": [
    "### 선형대수를 다룰때 사용하는 패키지 import"
   ]
  },
  {
   "cell_type": "code",
   "execution_count": 41,
   "metadata": {},
   "outputs": [],
   "source": [
    "import numpy.linalg as linalg"
   ]
  },
  {
   "cell_type": "markdown",
   "metadata": {},
   "source": [
    "### 놈(norm) 구하기\n",
    "\n",
    "말이 괜히 어려운데, 제곱합의 루트값이다.  \n",
    "n = 2인 놈을 프로베니우스 놈이라고 함. "
   ]
  },
  {
   "cell_type": "code",
   "execution_count": 54,
   "metadata": {},
   "outputs": [
    {
     "data": {
      "text/plain": [
       "5.477225575051661"
      ]
     },
     "execution_count": 54,
     "metadata": {},
     "output_type": "execute_result"
    }
   ],
   "source": [
    "a = np.array([1, 2, 3, 4])\n",
    "np.linalg.norm(a)"
   ]
  },
  {
   "cell_type": "markdown",
   "metadata": {},
   "source": [
    "### 판별식 구하기\n",
    "1*4 - 2*3 = -2 값이 나와야겠다.  \n",
    "\n",
    "예상대로 잘 나온다"
   ]
  },
  {
   "cell_type": "code",
   "execution_count": 46,
   "metadata": {},
   "outputs": [
    {
     "data": {
      "text/plain": [
       "-2.0000000000000004"
      ]
     },
     "execution_count": 46,
     "metadata": {},
     "output_type": "execute_result"
    }
   ],
   "source": [
    "determinant = linalg.det(np.array([[1,2],[3,4]]))\n",
    "determinant "
   ]
  },
  {
   "cell_type": "markdown",
   "metadata": {},
   "source": [
    "### 고유값, 고유벡터 구하기 \n",
    "아래와 같은 방법으로 간단하게 고유값과 고유벡터를 구할 수 있다."
   ]
  },
  {
   "cell_type": "markdown",
   "metadata": {},
   "source": [
    "<img src=\"data:image/png;base64,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\"></img>"
   ]
  },
  {
   "cell_type": "code",
   "execution_count": 38,
   "metadata": {},
   "outputs": [],
   "source": [
    "P = np.array([[2, 0, 0], [0, 1, 0], [0, 0, 3]])\n",
    "\n",
    "D, V = linalg.eig(P)"
   ]
  },
  {
   "cell_type": "code",
   "execution_count": 39,
   "metadata": {},
   "outputs": [
    {
     "data": {
      "text/plain": [
       "array([2., 1., 3.])"
      ]
     },
     "execution_count": 39,
     "metadata": {},
     "output_type": "execute_result"
    }
   ],
   "source": [
    "D"
   ]
  },
  {
   "cell_type": "code",
   "execution_count": 40,
   "metadata": {},
   "outputs": [
    {
     "data": {
      "text/plain": [
       "array([[1., 0., 0.],\n",
       "       [0., 1., 0.],\n",
       "       [0., 0., 1.]])"
      ]
     },
     "execution_count": 40,
     "metadata": {},
     "output_type": "execute_result"
    }
   ],
   "source": [
    "V"
   ]
  },
  {
   "cell_type": "markdown",
   "metadata": {},
   "source": [
    "### 고유값, 고유벡터 예제 하나 더.. \n",
    "D : 고유 벡터를 나타내는 Diagonal matrix에서 앞자를 따 D를 많이 쓰고  \n",
    "V : 고유값을 나타내는 diagonal Value에서 앞자를 따 V를 많이 쓴다."
   ]
  },
  {
   "cell_type": "code",
   "execution_count": 49,
   "metadata": {},
   "outputs": [],
   "source": [
    "eigen_val_test_arr = np.array([[13,-4,2],[-4,13,-2],[2,-2,10]])\n",
    "D,V = linalg.eig(eigen_val_test_arr)"
   ]
  },
  {
   "cell_type": "code",
   "execution_count": 50,
   "metadata": {},
   "outputs": [
    {
     "data": {
      "text/plain": [
       "array([ 9., 18.,  9.])"
      ]
     },
     "execution_count": 50,
     "metadata": {},
     "output_type": "execute_result"
    }
   ],
   "source": [
    "D"
   ]
  },
  {
   "cell_type": "code",
   "execution_count": 51,
   "metadata": {},
   "outputs": [
    {
     "data": {
      "text/plain": [
       "array([[-0.74535599, -0.66666667,  0.        ],\n",
       "       [-0.59628479,  0.66666667,  0.4472136 ],\n",
       "       [ 0.2981424 , -0.33333333,  0.89442719]])"
      ]
     },
     "execution_count": 51,
     "metadata": {},
     "output_type": "execute_result"
    }
   ],
   "source": [
    "V"
   ]
  },
  {
   "cell_type": "markdown",
   "metadata": {},
   "source": [
    "### 고유값 분해 예제"
   ]
  },
  {
   "cell_type": "code",
   "execution_count": 63,
   "metadata": {},
   "outputs": [
    {
     "name": "stdout",
     "output_type": "stream",
     "text": [
      "u : [[-6.66666667e-01 -7.45355992e-01 -5.40015493e-17]\n",
      " [ 6.66666667e-01 -5.96284794e-01  4.47213595e-01]\n",
      " [-3.33333333e-01  2.98142397e-01  8.94427191e-01]]\n",
      "s : [18.  9.  9.]\n",
      "vh : [[-0.66666667  0.66666667 -0.33333333]\n",
      " [-0.74535599 -0.59628479  0.2981424 ]\n",
      " [ 0.          0.4472136   0.89442719]]\n"
     ]
    }
   ],
   "source": [
    "import numpy as np\n",
    "\n",
    "#a = np.random.randn(9, 6) + 1j*np.random.randn(9, 6)\n",
    "#b = np.random.randn(2, 7, 8, 3) + 1j*np.random.randn(2, 7, 8, 3)\n",
    "b = np.array([[13,-4,2],[-4,13,-2],[2,-2,10]])\n",
    "\n",
    "u, s, vh = np.linalg.svd(b, full_matrices=False)\n",
    "print(\"u : {}\".format(u))\n",
    "print(\"s : {}\".format(s))\n",
    "print(\"vh : {}\".format(vh))\n",
    "#u.shape, s.shape, vh.shape\n",
    "\n",
    "#분해가 잘 되었는지?\n",
    "#np.allclose(b, np.matmul(u * s[..., None, :], vh))\n",
    "#True\n",
    "#np.allclose(b, np.matmul(u, s[..., None] * vh))\n",
    "#True"
   ]
  }
 ],
 "metadata": {
  "kernelspec": {
   "display_name": "Python 3",
   "language": "python",
   "name": "python3"
  },
  "language_info": {
   "codemirror_mode": {
    "name": "ipython",
    "version": 3
   },
   "file_extension": ".py",
   "mimetype": "text/x-python",
   "name": "python",
   "nbconvert_exporter": "python",
   "pygments_lexer": "ipython3",
   "version": "3.8.2"
  }
 },
 "nbformat": 4,
 "nbformat_minor": 4
}
